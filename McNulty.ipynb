{
 "cells": [
  {
   "cell_type": "code",
   "execution_count": 4,
   "metadata": {
    "collapsed": true
   },
   "outputs": [],
   "source": [
    "import pandas as pd"
   ]
  },
  {
   "cell_type": "code",
   "execution_count": 5,
   "metadata": {
    "collapsed": true
   },
   "outputs": [],
   "source": [
    "import seaborn as sns\n",
    "import os\n",
    "import time\n",
    "from bs4 import BeautifulSoup\n",
    "from datetime import timedelta\n",
    "from selenium import webdriver\n",
    "from selenium.webdriver.common.keys import Keys\n"
   ]
  },
  {
   "cell_type": "code",
   "execution_count": 6,
   "metadata": {
    "collapsed": true
   },
   "outputs": [],
   "source": [
    "import warnings\n",
    "warnings.filterwarnings(action='ignore')\n",
    "%matplotlib inline"
   ]
  },
  {
   "cell_type": "code",
   "execution_count": 6,
   "metadata": {
    "collapsed": true
   },
   "outputs": [],
   "source": [
    "def get_data_from_web(url,company):\n",
    "    chromedriver = \"/Applications/chromedriver\" # path to the chromedriver executable\n",
    "    os.environ[\"webdriver.chrome.driver\"] = chromedriver\n",
    "    driver = webdriver.Chrome(chromedriver)\n",
    "    driver.get(url)\n",
    "    time.sleep(5)\n",
    "    headers = {'User-Agent': 'Mozilla/5.0 (Macintosh; Intel Mac OS X 10_13_1) AppleWebKit/604.3.5 (KHTML, like Gecko) Version/11.0.1 Safari/604.3.5'}\n",
    "    dataf=parse_data_from_page(driver,company)\n",
    "    return dataf"
   ]
  },
  {
   "cell_type": "code",
   "execution_count": 109,
   "metadata": {
    "collapsed": true
   },
   "outputs": [],
   "source": [
    "def get_data():\n",
    "    #columns=['Month','Day','Year','Open','High','Low','Close','Adj_close','Volume','Company']\n",
    "    stock_data=pd.DataFrame()\n",
    "    url ='https://graph.facebook.com/v2.6/542678889114683/posts/?fields=message,link,permalink_url,created_time,type,name,id,comments.limit(0).summary(true),shares,likes.limit(0).summary(true),reactions.limit(0).summary(true)&limit=100&until=2018-02-07&since=2017-05-07&access_token=330041140833538|24115f8696e79c5726ac12be29fcdc9f'\n",
    "    #company_dict={'Amazon.com Inc.':'https://finance.yahoo.com/quote/AMZN/history?period1=946713600&period2=1517126400&interval=1d&filter=history&frequency=1d'    \n",
    "    #             }\n",
    "    for key in company_dict.keys():\n",
    "        data=get_data_from_web(company_dict[key],key)\n",
    "        stock_data=stock_data.append(data)\n",
    "    stock_data.rename(columns={0:columns[0],1:columns[1],2:columns[2],\\\n",
    "                           3:columns[3],4:columns[4],5:columns[5],\\\n",
    "                           6:columns[6],7:columns[7],\n",
    "                             8:columns[8] },inplace=True)\n",
    "    stock_data.to_csv('stock_data_2000-2018.csv')\n",
    "    return(stock_data)"
   ]
  },
  {
   "cell_type": "code",
   "execution_count": null,
   "metadata": {
    "collapsed": true
   },
   "outputs": [],
   "source": [
    "        'https://graph.facebook.com/v2.6/11784025953/posts/?fields=message,link,permalink_url,created_time,type,name,id,comments,shares,likes,reactions&limit=100&until=2018-02-07&since=2018-01-07&access_token=330041140833538|24115f8696e79c5726ac12be29fcdc9f'\n",
    "\n"
   ]
  },
  {
   "cell_type": "code",
   "execution_count": 1,
   "metadata": {
    "collapsed": true
   },
   "outputs": [],
   "source": [
    "page_dict={'Coca-Cola ' : 542678889114683,\n",
    "'Fanta':\t\t23550666633,\n",
    "'Sprite':\t\t66681829158,\n",
    "'DietCoke':\t8605796091,\n",
    "'CocaColaLife': \t40796308305,\n",
    "'PowerRide': \t\t1587100841523776,\n",
    "'Ciel':\t\t743674392312874,\n",
    "'Fresca':\t\t1539495209705481,\n",
    "'Minute Maid':\t123585981029762,\n",
    "'Fuze':\t\t97974642277,\n",
    "'Fuze Tea':\t415540015139295,\n",
    "'Simply Orange': 208093027732,\n",
    "'HonestTea'\t:\t29250433144,\n",
    "'Odwalla' : 17156801635,\n",
    "'Powerade':\t116254121743950,\n",
    "'Mello Yello': 47917261965,\n",
    "'DelValle': \t592460657542000,\n",
    "'smartwater':\t112761737471,\n",
    "'vitaminwater':\t50540568485,\n",
    "'GeorgiaCoffee':\t424898454256725,\n",
    "'Schweppes'\t:\t476631085051,\n",
    "'Aquarius'\t:\t370295393031035,\n",
    "'Dasani'\t:\t\t248017467116,\n",
    "'GoldPeakTea': \t150795508293443,\n",
    "'ILOhas':\t111652908860614}"
   ]
  },
  {
   "cell_type": "code",
   "execution_count": null,
   "metadata": {
    "collapsed": true
   },
   "outputs": [],
   "source": []
  },
  {
   "cell_type": "code",
   "execution_count": 120,
   "metadata": {},
   "outputs": [
    {
     "name": "stdout",
     "output_type": "stream",
     "text": [
      "Processing data for brand: Fanta\n",
      "Processing data for brand: Sprite\n",
      "Processing data for brand: DietCoke\n",
      "Processing data for brand: CocaColaLife\n",
      "Processing data for brand: PowerRide\n",
      "Processing data for brand: Ciel\n",
      "Processing data for brand: Fresca\n",
      "Processing data for brand: Minute Maid\n",
      "Processing data for brand: Fuze\n",
      "Processing data for brand: Fuze Tea\n",
      "Processing data for brand: Simply Orange\n",
      "Processing data for brand: HonestTea\n",
      "Processing data for brand: Odwalla\n",
      "Processing data for brand: Powerade\n",
      "Processing data for brand: Mello Yello\n",
      "Processing data for brand: DelValle\n",
      "Processing data for brand: smartwater\n",
      "Processing data for brand: vitaminwater\n",
      "Processing data for brand: GeorgiaCoffee\n",
      "Processing data for brand: Schweppes\n",
      "Processing data for brand: Aquarius\n",
      "Processing data for brand: Dasani\n",
      "Processing data for brand: GoldPeakTea\n",
      "Processing data for brand: ILOhas\n"
     ]
    }
   ],
   "source": [
    "\n",
    "from datetime import timedelta\n",
    "for x in page_dict.items(): \n",
    "    print('Processing data for brand:',x[0])\n",
    "    \n",
    "    end_dt = pd.to_datetime('2018-02-07')\n",
    "    \n",
    "    while end_dt>pd.to_datetime('2009-01-01'):\n",
    "        start_dt = end_dt - timedelta(days=200)\n",
    "        sd=str(start_dt.year)+'-'+str(start_dt.month)+'-'+str(start_dt.day)\n",
    "        ed=str(end_dt.year)+'-'+str(end_dt.month)+'-'+str(end_dt.day)\n",
    "    \n",
    "        url ='https://graph.facebook.com/v2.6/'+str(x[1])+'/posts/?fields=message,link,permalink_url,created_time,type,name,id,comments,shares,likes.limit(100).summary(true),reactions&limit=100&until='+ed+'&since='+sd+'&access_token=330041140833538|24115f8696e79c5726ac12be29fcdc9f'\n",
    "        chromedriver = \"/Applications/chromedriver\" # path to the chromedriver executable\n",
    "        os.environ[\"webdriver.chrome.driver\"] = chromedriver\n",
    "        driver = webdriver.Chrome(chromedriver)\n",
    "        driver.get(url)\n",
    "        time.sleep(5)\n",
    "        page = driver.page_source\n",
    "        file_name='CC'+x[0]+sd+'-'+ed+'.js'\n",
    "        file_ = open(file_name, 'w')\n",
    "        p = re.compile(r'<.*?>')\n",
    "        page=(p.sub('', page))\n",
    "        file_.write(page)\n",
    "        end_dt = start_dt - timedelta(days=1)\n",
    "        file_.close()"
   ]
  },
  {
   "cell_type": "code",
   "execution_count": 110,
   "metadata": {},
   "outputs": [
    {
     "data": {
      "text/plain": [
       "{'ATT': 8576093908,\n",
       " 'American Express': 259459370846061,\n",
       " 'Citi': 152431441489088,\n",
       " 'Dell': 393364824033060,\n",
       " 'Disney': 11784025953,\n",
       " 'Ebay': 185499393135,\n",
       " 'Experian': 224125162008,\n",
       " 'Fab': 275583034348,\n",
       " 'Google': 104958162837,\n",
       " 'Groupon': 526662987435979,\n",
       " 'Microsoft': 20528438720,\n",
       " 'Nestle': 113645311974,\n",
       " 'PG': 9924322884,\n",
       " 'Samsung': 126761694007536,\n",
       " 'Starbucks': 22092443056,\n",
       " 'Unilever': 134705859885321,\n",
       " 'Verizon': 12442500122,\n",
       " 'Walmart': 159616034235,\n",
       " 'Zynga': 271464258033}"
      ]
     },
     "execution_count": 110,
     "metadata": {},
     "output_type": "execute_result"
    }
   ],
   "source": [
    "company_dict"
   ]
  },
  {
   "cell_type": "code",
   "execution_count": 39,
   "metadata": {
    "collapsed": true
   },
   "outputs": [],
   "source": [
    "end_dt = pd.to_datetime('2018-02-07')"
   ]
  },
  {
   "cell_type": "code",
   "execution_count": 36,
   "metadata": {},
   "outputs": [
    {
     "data": {
      "text/plain": [
       "'2018-2-7'"
      ]
     },
     "execution_count": 36,
     "metadata": {},
     "output_type": "execute_result"
    }
   ],
   "source": [
    "str(start_dt.year)+'-'+str(start_dt.month)+'-'+str(start_dt.day)"
   ]
  },
  {
   "cell_type": "code",
   "execution_count": 40,
   "metadata": {
    "collapsed": true
   },
   "outputs": [],
   "source": [
    "start_dt = end_dt - timedelta(days=200)"
   ]
  },
  {
   "cell_type": "code",
   "execution_count": 41,
   "metadata": {},
   "outputs": [
    {
     "data": {
      "text/plain": [
       "Timestamp('2017-07-22 00:00:00')"
      ]
     },
     "execution_count": 41,
     "metadata": {},
     "output_type": "execute_result"
    }
   ],
   "source": [
    "start_dt"
   ]
  },
  {
   "cell_type": "code",
   "execution_count": 65,
   "metadata": {
    "collapsed": true
   },
   "outputs": [],
   "source": [
    "company_dict={'Citi':\t\t\t\t\t152431441489088,\n",
    "'Starbucks'\t\t\t:\t22092443056,\n",
    "'Disney'\t\t\t:\t\t11784025953,\n",
    "'Dell'\t\t\t\t:\t393364824033060,\n",
    "'Samsung'\t\t\t:\t\t126761694007536,\n",
    "'Nestle'\t\t\t:\t\t113645311974,\n",
    "'Unilever'\t\t\t:\t134705859885321,\n",
    "'Ebay'\t\t\t\t:\t185499393135,\n",
    "'Verizon'\t\t\t:\t\t12442500122,\n",
    "'Google' \t\t\t:\t\t104958162837,\n",
    "'Microsoft'\t\t\t:\t20528438720,\n",
    "'Walmart'\t\t\t:\t\t159616034235,\n",
    "'Groupon'\t\t\t:\t\t526662987435979,\n",
    "'Experian' \t\t\t:\t224125162008,\n",
    "'American Express'\t:\t259459370846061,\n",
    "'ATT' \t\t\t\t:\t8576093908,\n",
    "'PG' \t\t\t\t:\t9924322884,\n",
    "'Fab' \t\t\t:\t275583034348,\n",
    "'Zynga'\t\t\t\t:\t271464258033}"
   ]
  },
  {
   "cell_type": "code",
   "execution_count": 75,
   "metadata": {},
   "outputs": [
    {
     "name": "stdout",
     "output_type": "stream",
     "text": [
      "('Citi', 152431441489088)\n",
      "('Starbucks', 22092443056)\n",
      "('Disney', 11784025953)\n",
      "('Dell', 393364824033060)\n",
      "('Samsung', 126761694007536)\n",
      "('Nestle', 113645311974)\n",
      "('Unilever', 134705859885321)\n",
      "('Ebay', 185499393135)\n",
      "('Verizon', 12442500122)\n",
      "('Google', 104958162837)\n",
      "('Microsoft', 20528438720)\n",
      "('Walmart', 159616034235)\n",
      "('Groupon', 526662987435979)\n",
      "('Experian', 224125162008)\n",
      "('American Express', 259459370846061)\n",
      "('ATT', 8576093908)\n",
      "('PG', 9924322884)\n",
      "('Fab', 275583034348)\n",
      "('Zynga', 271464258033)\n"
     ]
    }
   ],
   "source": [
    "for x in company_dict.items():\n",
    "    print(x)"
   ]
  },
  {
   "cell_type": "code",
   "execution_count": 104,
   "metadata": {
    "collapsed": true
   },
   "outputs": [],
   "source": [
    "brands ={'Fanta':\t\t23550666633,\n",
    "'Sprite':\t\t66681829158,\n",
    "'DietCoke':\t8605796091,\n",
    "'CocaColaLife': \t40796308305,\n",
    "'PowerRide': \t\t1587100841523776,\n",
    "'Ciel':\t\t743674392312874,\n",
    "'Fresca':\t\t1539495209705481,\n",
    "'Minute Maid':\t123585981029762,\n",
    "'Fuze':\t\t97974642277,\n",
    "'Fuze Tea':\t415540015139295,\n",
    "'Simply Orange': 208093027732,\n",
    "'HonestTea'\t:\t29250433144,\n",
    "'Odwalla' : 17156801635,\n",
    "'Powerade':\t116254121743950,\n",
    "'Mello Yello': 47917261965,\n",
    "'DelValle': \t592460657542000,\n",
    "'smartwater':\t112761737471,\n",
    "'vitaminwater':\t50540568485,\n",
    "'GeorgiaCoffee':\t424898454256725,\n",
    "'Schweppes'\t:\t476631085051,\n",
    "'Aquarius'\t:\t370295393031035,\n",
    "'Dasani'\t:\t\t248017467116,\n",
    "'GoldPeakTea': \t150795508293443,\n",
    "'ILOhas':\t111652908860614}"
   ]
  },
  {
   "cell_type": "code",
   "execution_count": 80,
   "metadata": {
    "collapsed": true
   },
   "outputs": [],
   "source": [
    "df=pd.DataFrame()"
   ]
  },
  {
   "cell_type": "code",
   "execution_count": 95,
   "metadata": {
    "collapsed": true
   },
   "outputs": [],
   "source": [
    "df=df.append(pd.read_csv('/Users/maragatham/ds/metis/metisgh/Week4/JsonFiles/CSV_files/2017-7-22-2018-2-7.csv'))"
   ]
  },
  {
   "cell_type": "code",
   "execution_count": 96,
   "metadata": {},
   "outputs": [
    {
     "data": {
      "text/plain": [
       "message                              669\n",
       "link                                 689\n",
       "permalink_url                        675\n",
       "created_time                         689\n",
       "type                                 689\n",
       "name                                 679\n",
       "id                                   689\n",
       "comments/summary/order               689\n",
       "comments/summary/total_count         689\n",
       "comments/summary/can_comment         689\n",
       "shares/count                         675\n",
       "likes/summary/total_count            689\n",
       "likes/summary/can_like               689\n",
       "likes/summary/has_liked              689\n",
       "reactions/summary/total_count        689\n",
       "reactions/summary/viewer_reaction    689\n",
       "dtype: int64"
      ]
     },
     "execution_count": 96,
     "metadata": {},
     "output_type": "execute_result"
    }
   ],
   "source": [
    "df.count()"
   ]
  },
  {
   "cell_type": "code",
   "execution_count": 108,
   "metadata": {},
   "outputs": [
    {
     "data": {
      "text/html": [
       "<div>\n",
       "<style>\n",
       "    .dataframe thead tr:only-child th {\n",
       "        text-align: right;\n",
       "    }\n",
       "\n",
       "    .dataframe thead th {\n",
       "        text-align: left;\n",
       "    }\n",
       "\n",
       "    .dataframe tbody tr th {\n",
       "        vertical-align: top;\n",
       "    }\n",
       "</style>\n",
       "<table border=\"1\" class=\"dataframe\">\n",
       "  <thead>\n",
       "    <tr style=\"text-align: right;\">\n",
       "      <th></th>\n",
       "      <th>message</th>\n",
       "      <th>link</th>\n",
       "      <th>permalink_url</th>\n",
       "      <th>created_time</th>\n",
       "      <th>type</th>\n",
       "      <th>name</th>\n",
       "      <th>id</th>\n",
       "      <th>comments/summary/order</th>\n",
       "      <th>comments/summary/total_count</th>\n",
       "      <th>comments/summary/can_comment</th>\n",
       "      <th>shares/count</th>\n",
       "      <th>likes/summary/total_count</th>\n",
       "      <th>likes/summary/can_like</th>\n",
       "      <th>likes/summary/has_liked</th>\n",
       "      <th>reactions/summary/total_count</th>\n",
       "      <th>reactions/summary/viewer_reaction</th>\n",
       "      <th>Company</th>\n",
       "    </tr>\n",
       "  </thead>\n",
       "  <tbody>\n",
       "    <tr>\n",
       "      <th>87</th>\n",
       "      <td>What do Coca-Cola and the iconic psychedelic r...</td>\n",
       "      <td>http://cokeurl.com/tkphw</td>\n",
       "      <td>https://www.facebook.com/TheCocaColaCo/posts/8...</td>\n",
       "      <td>2015-06-18T21:52:02+0000</td>\n",
       "      <td>link</td>\n",
       "      <td>Grateful Red: The Unlikely Connection Between ...</td>\n",
       "      <td>542678889114683_851633544885881</td>\n",
       "      <td>chronological</td>\n",
       "      <td>4</td>\n",
       "      <td>False</td>\n",
       "      <td>29.0</td>\n",
       "      <td>1812</td>\n",
       "      <td>False</td>\n",
       "      <td>False</td>\n",
       "      <td>1812</td>\n",
       "      <td>NONE</td>\n",
       "      <td>Coca Cola</td>\n",
       "    </tr>\n",
       "  </tbody>\n",
       "</table>\n",
       "</div>"
      ],
      "text/plain": [
       "                                              message  \\\n",
       "87  What do Coca-Cola and the iconic psychedelic r...   \n",
       "\n",
       "                        link  \\\n",
       "87  http://cokeurl.com/tkphw   \n",
       "\n",
       "                                        permalink_url  \\\n",
       "87  https://www.facebook.com/TheCocaColaCo/posts/8...   \n",
       "\n",
       "                created_time  type  \\\n",
       "87  2015-06-18T21:52:02+0000  link   \n",
       "\n",
       "                                                 name  \\\n",
       "87  Grateful Red: The Unlikely Connection Between ...   \n",
       "\n",
       "                                 id comments/summary/order  \\\n",
       "87  542678889114683_851633544885881          chronological   \n",
       "\n",
       "    comments/summary/total_count  comments/summary/can_comment  shares/count  \\\n",
       "87                             4                         False          29.0   \n",
       "\n",
       "    likes/summary/total_count  likes/summary/can_like  \\\n",
       "87                       1812                   False   \n",
       "\n",
       "    likes/summary/has_liked  reactions/summary/total_count  \\\n",
       "87                    False                           1812   \n",
       "\n",
       "   reactions/summary/viewer_reaction    Company  \n",
       "87                              NONE  Coca Cola  "
      ]
     },
     "execution_count": 108,
     "metadata": {},
     "output_type": "execute_result"
    }
   ],
   "source": [
    "df[df['comments/summary/order']!='ranked']"
   ]
  },
  {
   "cell_type": "code",
   "execution_count": 100,
   "metadata": {
    "collapsed": true
   },
   "outputs": [],
   "source": [
    "df['Company']='Coca Cola'"
   ]
  },
  {
   "cell_type": "code",
   "execution_count": null,
   "metadata": {
    "collapsed": true
   },
   "outputs": [],
   "source": [
    "df.head()"
   ]
  },
  {
   "cell_type": "code",
   "execution_count": 102,
   "metadata": {},
   "outputs": [
    {
     "data": {
      "text/plain": [
       "array(['ranked', 'chronological'], dtype=object)"
      ]
     },
     "execution_count": 102,
     "metadata": {},
     "output_type": "execute_result"
    }
   ],
   "source": [
    "df['comments/summary/order'].unique()"
   ]
  },
  {
   "cell_type": "code",
   "execution_count": null,
   "metadata": {
    "collapsed": true
   },
   "outputs": [],
   "source": [
    "## to get the summary of the counts ##\n",
    "\n",
    "\n",
    "url ='https://graph.facebook.com/v2.6/'+str(x[1])+'/posts/?fields=id,comments.limit(0).summary(true),shares.limit(0).summary(true),likes.limit(0).summary(true),reactions.limit(0).summary(true)'"
   ]
  },
  {
   "cell_type": "code",
   "execution_count": 7,
   "metadata": {},
   "outputs": [
    {
     "name": "stdout",
     "output_type": "stream",
     "text": [
      "Processing data for brand: Coca-Cola \n",
      "Processing data for brand: Fanta\n",
      "Processing data for brand: Sprite\n",
      "Processing data for brand: DietCoke\n",
      "Processing data for brand: CocaColaLife\n",
      "Processing data for brand: PowerRide\n",
      "Processing data for brand: Ciel\n",
      "Processing data for brand: Fresca\n",
      "Processing data for brand: Minute Maid\n",
      "Processing data for brand: Fuze\n",
      "Processing data for brand: Fuze Tea\n",
      "Processing data for brand: Simply Orange\n",
      "Processing data for brand: HonestTea\n",
      "Processing data for brand: Odwalla\n",
      "Processing data for brand: Powerade\n",
      "Processing data for brand: Mello Yello\n",
      "Processing data for brand: DelValle\n",
      "Processing data for brand: smartwater\n",
      "Processing data for brand: vitaminwater\n",
      "Processing data for brand: GeorgiaCoffee\n",
      "Processing data for brand: Schweppes\n",
      "Processing data for brand: Aquarius\n",
      "Processing data for brand: Dasani\n",
      "Processing data for brand: GoldPeakTea\n",
      "Processing data for brand: ILOhas\n"
     ]
    }
   ],
   "source": [
    "import re\n",
    "from datetime import timedelta\n",
    "for x in page_dict.items(): \n",
    "    print('Processing data for brand:',x[0])\n",
    "    \n",
    "    end_dt = pd.to_datetime('2018-02-07')\n",
    "    \n",
    "    while end_dt>pd.to_datetime('2009-01-01'):\n",
    "        start_dt = end_dt - timedelta(days=200)\n",
    "        sd=str(start_dt.year)+'-'+str(start_dt.month)+'-'+str(start_dt.day)\n",
    "        ed=str(end_dt.year)+'-'+str(end_dt.month)+'-'+str(end_dt.day)\n",
    "    \n",
    "        url ='https://graph.facebook.com/v2.6/'+str(x[1])+'/posts/?fields=id,comments.limit(0).summary(true),shares.limit(0).summary(true),likes.limit(0).summary(true),reactions.limit(0).summary(true)&limit=100&until='+ed+'&since='+sd+'&access_token=330041140833538|24115f8696e79c5726ac12be29fcdc9f'        \n",
    "        chromedriver = \"/Applications/chromedriver\" # path to the chromedriver executable\n",
    "        os.environ[\"webdriver.chrome.driver\"] = chromedriver\n",
    "        driver = webdriver.Chrome(chromedriver)\n",
    "        driver.get(url)\n",
    "        time.sleep(5)\n",
    "        page = driver.page_source\n",
    "        file_name='CCSum'+x[0]+sd+'-'+ed+'.js'\n",
    "        file_ = open(file_name, 'w')\n",
    "        p = re.compile(r'<.*?>')\n",
    "        page=(p.sub('', page))\n",
    "        file_.write(page)\n",
    "        end_dt = start_dt - timedelta(days=1)\n",
    "        file_.close()"
   ]
  },
  {
   "cell_type": "code",
   "execution_count": 7,
   "metadata": {
    "collapsed": true
   },
   "outputs": [],
   "source": [
    "new_company_dict={\n",
    "'Starbucks'\t\t\t:\t22092443056,\n",
    "'Microsoft'\t\t\t:\t20528438720,\n",
    "'Nike' \t\t\t\t:\t15087023444,\n",
    "'PG' \t\t\t:\t9924322884}\n",
    "\n"
   ]
  },
  {
   "cell_type": "code",
   "execution_count": 10,
   "metadata": {},
   "outputs": [
    {
     "name": "stdout",
     "output_type": "stream",
     "text": [
      "Processing data for brand: Starbucks\n",
      "Processing data for brand: Microsoft\n",
      "Processing data for brand: Nike\n",
      "Processing data for brand: PG\n"
     ]
    }
   ],
   "source": [
    "import re\n",
    "from datetime import timedelta\n",
    "for x in new_company_dict.items(): \n",
    "    print('Processing data for brand:',x[0])\n",
    "    \n",
    "    end_dt = pd.to_datetime('2018-02-07')\n",
    "    \n",
    "    while end_dt>pd.to_datetime('2009-01-01'):\n",
    "        start_dt = end_dt - timedelta(days=200)\n",
    "        sd=str(start_dt.year)+'-'+str(start_dt.month)+'-'+str(start_dt.day)\n",
    "        ed=str(end_dt.year)+'-'+str(end_dt.month)+'-'+str(end_dt.day)\n",
    "    \n",
    "        url ='https://graph.facebook.com/v2.6/'+str(x[1])+'/posts/?fields=message,link,permalink_url,created_time,type,name,id,comments,shares,likes.limit(100).summary(true),reactions&limit=100&until='+ed+'&since='+sd+'&access_token=330041140833538|24115f8696e79c5726ac12be29fcdc9f'        \n",
    "        chromedriver = \"/Applications/chromedriver\" # path to the chromedriver executable\n",
    "        os.environ[\"webdriver.chrome.driver\"] = chromedriver\n",
    "        driver = webdriver.Chrome(chromedriver)\n",
    "        driver.get(url)\n",
    "        time.sleep(5)\n",
    "        page = driver.page_source\n",
    "        file_name='NewPost'+x[0]+sd+'-'+ed+'.js'\n",
    "        file_ = open(file_name, 'w')\n",
    "        p = re.compile(r'<.*?>')\n",
    "        page=(p.sub('', page))\n",
    "        file_.write(page)\n",
    "        end_dt = start_dt - timedelta(days=1)\n",
    "        file_.close()"
   ]
  },
  {
   "cell_type": "code",
   "execution_count": null,
   "metadata": {
    "collapsed": true
   },
   "outputs": [],
   "source": []
  }
 ],
 "metadata": {
  "kernelspec": {
   "display_name": "Python 3",
   "language": "python",
   "name": "python3"
  },
  "language_info": {
   "codemirror_mode": {
    "name": "ipython",
    "version": 3
   },
   "file_extension": ".py",
   "mimetype": "text/x-python",
   "name": "python",
   "nbconvert_exporter": "python",
   "pygments_lexer": "ipython3",
   "version": "3.6.4"
  },
  "toc": {
   "nav_menu": {},
   "number_sections": true,
   "sideBar": true,
   "skip_h1_title": false,
   "title_cell": "Table of Contents",
   "title_sidebar": "Contents",
   "toc_cell": false,
   "toc_position": {},
   "toc_section_display": true,
   "toc_window_display": false
  },
  "varInspector": {
   "cols": {
    "lenName": 16,
    "lenType": 16,
    "lenVar": 40
   },
   "kernels_config": {
    "python": {
     "delete_cmd_postfix": "",
     "delete_cmd_prefix": "del ",
     "library": "var_list.py",
     "varRefreshCmd": "print(var_dic_list())"
    },
    "r": {
     "delete_cmd_postfix": ") ",
     "delete_cmd_prefix": "rm(",
     "library": "var_list.r",
     "varRefreshCmd": "cat(var_dic_list()) "
    }
   },
   "types_to_exclude": [
    "module",
    "function",
    "builtin_function_or_method",
    "instance",
    "_Feature"
   ],
   "window_display": false
  }
 },
 "nbformat": 4,
 "nbformat_minor": 2
}
